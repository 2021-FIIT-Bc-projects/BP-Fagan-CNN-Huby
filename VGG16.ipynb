{
  "nbformat": 4,
  "nbformat_minor": 0,
  "metadata": {
    "colab": {
      "name": "VGG16.ipynb",
      "provenance": [],
      "mount_file_id": "13QvCBySr3JFXX6Pak-13ASz4mHtTk2W7",
      "authorship_tag": "ABX9TyOOn+raYtuY1Fd+o+mrUDwc",
      "include_colab_link": true
    },
    "kernelspec": {
      "name": "python3",
      "display_name": "Python 3"
    },
    "language_info": {
      "name": "python"
    },
    "accelerator": "GPU"
  },
  "cells": [
    {
      "cell_type": "markdown",
      "metadata": {
        "id": "view-in-github",
        "colab_type": "text"
      },
      "source": [
        "<a href=\"https://colab.research.google.com/github/2021-FIIT-Bc-projects/BP-Fagan-CNN-Huby/blob/develop/VGG16.ipynb\" target=\"_parent\"><img src=\"https://colab.research.google.com/assets/colab-badge.svg\" alt=\"Open In Colab\"/></a>"
      ]
    },
    {
      "cell_type": "code",
      "metadata": {
        "id": "aB7yADwoF5Ir"
      },
      "source": [
        "from tensorflow.keras.layers import Input, Lambda, Dense, Flatten\n",
        "from tensorflow.keras.models import Model\n",
        "from tensorflow.keras.applications.vgg16 import VGG16\n",
        "from tensorflow.keras.applications.vgg19 import VGG19\n",
        "from tensorflow.keras.preprocessing import image\n",
        "from tensorflow.keras.preprocessing.image import ImageDataGenerator,load_img\n",
        "from tensorflow.keras.models import Sequential\n",
        "import numpy as np\n",
        "from glob import glob\n",
        "import tensorflow as tf\n",
        "import os"
      ],
      "execution_count": null,
      "outputs": []
    },
    {
      "cell_type": "code",
      "metadata": {
        "id": "zl8LagguF5zm"
      },
      "source": [
        "IMAGE_SIZE = [224, 224]\n",
        "\n",
        "train_path = '/content/drive/MyDrive/Colab Notebooks/dataset3/train'\n",
        "valid_path = '/content/drive/MyDrive/Colab Notebooks/dataset3/test'"
      ],
      "execution_count": null,
      "outputs": []
    },
    {
      "cell_type": "code",
      "metadata": {
        "colab": {
          "base_uri": "https://localhost:8080/"
        },
        "id": "xEvAb_cAbr6i",
        "outputId": "a875f11b-4876-4990-f005-175bdcf6fd53"
      },
      "source": [
        "class_names=os.listdir(train_path)\n",
        "class_names_test=os.listdir(valid_path)\n",
        "\n",
        "print(class_names)\n",
        "print(class_names_test)"
      ],
      "execution_count": null,
      "outputs": [
        {
          "output_type": "stream",
          "name": "stdout",
          "text": [
            "['E_Boletus_reticulatus', 'P_Amanita_pantherina', 'E_Macrolepiota_procera', 'P_Amanita_muscaria', 'E_Leccinum', 'E_Tricholomopsis_rutilans', 'E_Macrolepiota', 'E_Agaricus_augustus', 'P_Amanita_frostiana', 'E_Cantharellus_cibarius', 'P_Galerina_marginata', 'P_Amanita_phalloides', 'P_Gyromitra_esculenta']\n",
            "['E_Agaricus_augustus', 'E_Boletus_reticulatus', 'E_Cantharellus_cibarius', 'E_Leccinum', 'E_Macrolepiota', 'E_Macrolepiota_procera', 'E_Tricholomopsis_rutilans', 'P_Amanita_frostiana', 'P_Amanita_muscaria', 'P_Amanita_pantherina', 'P_Amanita_phalloides', 'P_Galerina_marginata', 'P_Gyromitra_esculenta']\n"
          ]
        }
      ]
    },
    {
      "cell_type": "code",
      "metadata": {
        "colab": {
          "base_uri": "https://localhost:8080/"
        },
        "id": "uBJ-KLw0F5xS",
        "outputId": "5d1c1770-d595-4d6c-ae30-fc0e28f45841"
      },
      "source": [
        "vgg16 = VGG16(input_shape=IMAGE_SIZE + [3], weights='imagenet', include_top=False)"
      ],
      "execution_count": null,
      "outputs": [
        {
          "output_type": "stream",
          "name": "stdout",
          "text": [
            "Downloading data from https://storage.googleapis.com/tensorflow/keras-applications/vgg16/vgg16_weights_tf_dim_ordering_tf_kernels_notop.h5\n",
            "58892288/58889256 [==============================] - 1s 0us/step\n",
            "58900480/58889256 [==============================] - 1s 0us/step\n"
          ]
        }
      ]
    },
    {
      "cell_type": "code",
      "metadata": {
        "id": "Bzk0TDp6F5ui"
      },
      "source": [
        "# don't train existing weights\n",
        "for layer in vgg16.layers:\n",
        "    layer.trainable = False"
      ],
      "execution_count": null,
      "outputs": []
    },
    {
      "cell_type": "code",
      "metadata": {
        "id": "jhanBphjF5sF"
      },
      "source": [
        "folders = glob('/content/drive/MyDrive/Colab Notebooks/dataset3/train/*')"
      ],
      "execution_count": null,
      "outputs": []
    },
    {
      "cell_type": "code",
      "metadata": {
        "colab": {
          "base_uri": "https://localhost:8080/"
        },
        "id": "UIAUmlJlF5pb",
        "outputId": "d025f2ab-95e4-4e24-fe6e-bc759cf843c3"
      },
      "source": [
        "folders"
      ],
      "execution_count": null,
      "outputs": [
        {
          "output_type": "execute_result",
          "data": {
            "text/plain": [
              "['/content/drive/MyDrive/Colab Notebooks/dataset3/train/E_Boletus_reticulatus',\n",
              " '/content/drive/MyDrive/Colab Notebooks/dataset3/train/P_Amanita_pantherina',\n",
              " '/content/drive/MyDrive/Colab Notebooks/dataset3/train/E_Macrolepiota_procera',\n",
              " '/content/drive/MyDrive/Colab Notebooks/dataset3/train/P_Amanita_muscaria',\n",
              " '/content/drive/MyDrive/Colab Notebooks/dataset3/train/E_Leccinum',\n",
              " '/content/drive/MyDrive/Colab Notebooks/dataset3/train/E_Tricholomopsis_rutilans',\n",
              " '/content/drive/MyDrive/Colab Notebooks/dataset3/train/E_Macrolepiota',\n",
              " '/content/drive/MyDrive/Colab Notebooks/dataset3/train/E_Agaricus_augustus',\n",
              " '/content/drive/MyDrive/Colab Notebooks/dataset3/train/P_Amanita_frostiana',\n",
              " '/content/drive/MyDrive/Colab Notebooks/dataset3/train/E_Cantharellus_cibarius',\n",
              " '/content/drive/MyDrive/Colab Notebooks/dataset3/train/P_Galerina_marginata',\n",
              " '/content/drive/MyDrive/Colab Notebooks/dataset3/train/P_Amanita_phalloides',\n",
              " '/content/drive/MyDrive/Colab Notebooks/dataset3/train/P_Gyromitra_esculenta']"
            ]
          },
          "metadata": {},
          "execution_count": 7
        }
      ]
    },
    {
      "cell_type": "code",
      "metadata": {
        "id": "p9f1x3FXF5mz"
      },
      "source": [
        "x = Flatten()(vgg16.output)"
      ],
      "execution_count": null,
      "outputs": []
    },
    {
      "cell_type": "code",
      "metadata": {
        "colab": {
          "base_uri": "https://localhost:8080/"
        },
        "id": "JsXGtlDnF5ji",
        "outputId": "e1f612e1-22f7-4244-dd1d-0893e01f643f"
      },
      "source": [
        "len(folders)"
      ],
      "execution_count": null,
      "outputs": [
        {
          "output_type": "execute_result",
          "data": {
            "text/plain": [
              "13"
            ]
          },
          "metadata": {},
          "execution_count": 9
        }
      ]
    },
    {
      "cell_type": "code",
      "metadata": {
        "id": "7eihxfeNMKTm"
      },
      "source": [
        "prediction = Dense(len(folders), activation='softmax')(x)\n",
        "\n",
        "# create a model object\n",
        "model = Model(inputs=vgg16.input, outputs=prediction)"
      ],
      "execution_count": null,
      "outputs": []
    },
    {
      "cell_type": "code",
      "metadata": {
        "id": "Sc9nfKUuMKRj"
      },
      "source": [
        "model.summary()"
      ],
      "execution_count": null,
      "outputs": []
    },
    {
      "cell_type": "code",
      "metadata": {
        "id": "ac2nrp5TMKPH"
      },
      "source": [
        "model.compile(\n",
        "  loss='categorical_crossentropy',\n",
        "  optimizer='adam',\n",
        "  metrics=['accuracy']\n",
        ")"
      ],
      "execution_count": null,
      "outputs": []
    },
    {
      "cell_type": "code",
      "metadata": {
        "id": "_2YxIqvxMKMi"
      },
      "source": [
        "from tensorflow.keras.preprocessing.image import ImageDataGenerator\n",
        "\n",
        "train_datagen = ImageDataGenerator(rescale = 1./255,\n",
        "                                   shear_range = 0.2,\n",
        "                                   zoom_range = 0.2,\n",
        "                                   horizontal_flip = True)\n",
        "\n",
        "test_datagen = ImageDataGenerator(rescale = 1./255)"
      ],
      "execution_count": null,
      "outputs": []
    },
    {
      "cell_type": "code",
      "metadata": {
        "colab": {
          "base_uri": "https://localhost:8080/"
        },
        "id": "IXwlxTccMKJn",
        "outputId": "ba6b4aeb-6230-4b01-885d-79522d385eac"
      },
      "source": [
        "training_set = train_datagen.flow_from_directory('/content/drive/MyDrive/Colab Notebooks/dataset3/train',\n",
        "                                                 target_size = (224, 224),\n",
        "                                                 batch_size = 32,\n",
        "                                                 class_mode = 'categorical')"
      ],
      "execution_count": null,
      "outputs": [
        {
          "output_type": "stream",
          "name": "stdout",
          "text": [
            "Found 1317 images belonging to 13 classes.\n"
          ]
        }
      ]
    },
    {
      "cell_type": "code",
      "metadata": {
        "colab": {
          "base_uri": "https://localhost:8080/"
        },
        "id": "4nAOQ3N4MKGw",
        "outputId": "7d311122-d08b-4895-959a-bdbe3d52fdcd"
      },
      "source": [
        "test_set = test_datagen.flow_from_directory('/content/drive/MyDrive/Colab Notebooks/dataset3/test',\n",
        "                                            target_size = (224, 224),\n",
        "                                            batch_size = 32,\n",
        "                                            class_mode = 'categorical')"
      ],
      "execution_count": null,
      "outputs": [
        {
          "output_type": "stream",
          "name": "stdout",
          "text": [
            "Found 262 images belonging to 13 classes.\n"
          ]
        }
      ]
    },
    {
      "cell_type": "code",
      "metadata": {
        "colab": {
          "base_uri": "https://localhost:8080/"
        },
        "id": "qTH_y5ybF5gK",
        "outputId": "1750f2b3-ea3d-4cc7-8814-6e7491816717"
      },
      "source": [
        "r = model.fit_generator(\n",
        "  training_set,\n",
        "  validation_data=test_set,\n",
        "  epochs=20,\n",
        "  steps_per_epoch=len(training_set),\n",
        "  validation_steps=len(test_set)\n",
        ")"
      ],
      "execution_count": null,
      "outputs": [
        {
          "output_type": "stream",
          "name": "stderr",
          "text": [
            "/usr/local/lib/python3.7/dist-packages/ipykernel_launcher.py:6: UserWarning: `Model.fit_generator` is deprecated and will be removed in a future version. Please use `Model.fit`, which supports generators.\n",
            "  \n"
          ]
        },
        {
          "output_type": "stream",
          "name": "stdout",
          "text": [
            "Epoch 1/20\n",
            "42/42 [==============================] - 1140s 26s/step - loss: 2.0667 - accuracy: 0.4450 - val_loss: 0.7664 - val_accuracy: 0.7634\n",
            "Epoch 2/20\n",
            "42/42 [==============================] - 27s 661ms/step - loss: 0.8188 - accuracy: 0.7441 - val_loss: 0.4266 - val_accuracy: 0.8855\n",
            "Epoch 3/20\n",
            "42/42 [==============================] - 27s 643ms/step - loss: 0.4863 - accuracy: 0.8610 - val_loss: 0.3038 - val_accuracy: 0.9275\n",
            "Epoch 4/20\n",
            "42/42 [==============================] - 27s 644ms/step - loss: 0.3901 - accuracy: 0.8808 - val_loss: 0.2247 - val_accuracy: 0.9427\n",
            "Epoch 5/20\n",
            "42/42 [==============================] - 27s 639ms/step - loss: 0.2826 - accuracy: 0.9301 - val_loss: 0.1355 - val_accuracy: 0.9656\n",
            "Epoch 6/20\n",
            "42/42 [==============================] - 27s 637ms/step - loss: 0.1727 - accuracy: 0.9658 - val_loss: 0.1321 - val_accuracy: 0.9809\n",
            "Epoch 7/20\n",
            "42/42 [==============================] - 27s 636ms/step - loss: 0.1570 - accuracy: 0.9658 - val_loss: 0.0649 - val_accuracy: 0.9962\n",
            "Epoch 8/20\n",
            "42/42 [==============================] - 27s 632ms/step - loss: 0.1270 - accuracy: 0.9757 - val_loss: 0.0927 - val_accuracy: 0.9733\n",
            "Epoch 9/20\n",
            "42/42 [==============================] - 27s 633ms/step - loss: 0.0965 - accuracy: 0.9833 - val_loss: 0.0473 - val_accuracy: 0.9924\n",
            "Epoch 10/20\n",
            "42/42 [==============================] - 27s 641ms/step - loss: 0.0741 - accuracy: 0.9901 - val_loss: 0.0334 - val_accuracy: 0.9962\n",
            "Epoch 11/20\n",
            "42/42 [==============================] - 27s 635ms/step - loss: 0.0635 - accuracy: 0.9909 - val_loss: 0.0440 - val_accuracy: 1.0000\n",
            "Epoch 12/20\n",
            "42/42 [==============================] - 27s 649ms/step - loss: 0.0869 - accuracy: 0.9818 - val_loss: 0.0411 - val_accuracy: 0.9924\n",
            "Epoch 13/20\n",
            "42/42 [==============================] - 27s 639ms/step - loss: 0.0527 - accuracy: 0.9932 - val_loss: 0.0443 - val_accuracy: 0.9924\n",
            "Epoch 14/20\n",
            "42/42 [==============================] - 27s 638ms/step - loss: 0.0417 - accuracy: 0.9970 - val_loss: 0.0210 - val_accuracy: 1.0000\n",
            "Epoch 15/20\n",
            "42/42 [==============================] - 27s 638ms/step - loss: 0.0447 - accuracy: 0.9924 - val_loss: 0.0172 - val_accuracy: 1.0000\n",
            "Epoch 16/20\n",
            "42/42 [==============================] - 27s 637ms/step - loss: 0.0412 - accuracy: 0.9962 - val_loss: 0.0166 - val_accuracy: 1.0000\n",
            "Epoch 17/20\n",
            "42/42 [==============================] - 27s 639ms/step - loss: 0.0412 - accuracy: 0.9954 - val_loss: 0.0302 - val_accuracy: 1.0000\n",
            "Epoch 18/20\n",
            "42/42 [==============================] - 26s 627ms/step - loss: 0.0394 - accuracy: 0.9939 - val_loss: 0.0141 - val_accuracy: 1.0000\n",
            "Epoch 19/20\n",
            "42/42 [==============================] - 27s 638ms/step - loss: 0.0314 - accuracy: 0.9954 - val_loss: 0.0206 - val_accuracy: 0.9962\n",
            "Epoch 20/20\n",
            "42/42 [==============================] - 27s 634ms/step - loss: 0.0361 - accuracy: 0.9932 - val_loss: 0.0208 - val_accuracy: 0.9962\n"
          ]
        }
      ]
    },
    {
      "cell_type": "code",
      "metadata": {
        "colab": {
          "base_uri": "https://localhost:8080/"
        },
        "id": "fB1nWIMvMW93",
        "outputId": "00dbc51e-3569-485a-9d57-5fddcc33a966"
      },
      "source": [
        "model.save('/content/drive/MyDrive/Colab Notebooks/models/model_13_vs_13_20epochs_100acc_100valacc')"
      ],
      "execution_count": null,
      "outputs": [
        {
          "output_type": "stream",
          "name": "stdout",
          "text": [
            "INFO:tensorflow:Assets written to: /content/drive/MyDrive/Colab Notebooks/models/model_13_vs_13_20epochs_100acc_100valacc/assets\n"
          ]
        }
      ]
    },
    {
      "cell_type": "code",
      "metadata": {
        "id": "DOcofdsGMW6u"
      },
      "source": [
        "model_loaded = tf.keras.models.load_model('/content/drive/MyDrive/Colab Notebooks/models/model_13_vs_13_20epochs_100acc_100valacc')"
      ],
      "execution_count": null,
      "outputs": []
    },
    {
      "cell_type": "code",
      "metadata": {
        "colab": {
          "base_uri": "https://localhost:8080/"
        },
        "id": "Ew7QnbPTMW22",
        "outputId": "c655ddda-f57b-419d-c125-cc84369792a5"
      },
      "source": [
        "import pathlib\n",
        "#data_dir = \"/content/drive/MyDrive/Colab Notebooks/tests/EKV2017-9217335_rJPOFaLoW.JPG\" # muchotravka\n",
        "#data_dir = \"/content/drive/MyDrive/Colab Notebooks/tests/EKV2017-9219519_H1Rkpasj-.JPG\" # muchotravka\n",
        "#data_dir = \"/content/drive/MyDrive/Colab Notebooks/tests/CUV2017-9224390_BJDKFy_hb.JPG\" # muchotravka\n",
        "\n",
        "#data_dir = \"/content/drive/MyDrive/Colab Notebooks/tests/ARO2015-9190406_B1W-7TQRl.JPG\" # dub\n",
        "#data_dir = \"/content/drive/MyDrive/Colab Notebooks/tests/FDE2014PIC60764313.JPG\" #dub\n",
        "#data_dir = \"/content/drive/MyDrive/Colab Notebooks/tests/APE2017-9196671_rk6iCYUEZ.JPG\" # dub\n",
        "\n",
        "#data_dir = \"/content/drive/MyDrive/Colab Notebooks/tests/Amanita_phalloides_test1.jpg\" # muchotravka zelena\n",
        "data_dir = \"/content/drive/MyDrive/Colab Notebooks/tests/Cantharellus_cibarius_test1.jpg\" # kuriatko jedle\n",
        "\n",
        "image_path = pathlib.Path(data_dir)\n",
        "\n",
        "img= tf.keras.utils.load_img(\n",
        "    image_path, target_size=(224, 224)\n",
        ")\n",
        "\n",
        "img_array = tf.keras.utils.img_to_array(img)\n",
        "img_array = tf.expand_dims(img_array, 0)\n",
        "\n",
        "predictions = model.predict(img_array)\n",
        "score = tf.nn.softmax(predictions[0])\n",
        "\n",
        "print(class_names)\n",
        "print(predictions)\n",
        "\n",
        "print(\n",
        "    \"This image most likely belongs to {} with a {:.2f} percent confidence.\"\n",
        "    .format(class_names[np.argmax(score)], 100 * np.max(score))\n",
        ")"
      ],
      "execution_count": null,
      "outputs": [
        {
          "output_type": "stream",
          "name": "stdout",
          "text": [
            "['E_Boletus_reticulatus', 'P_Amanita_pantherina', 'E_Macrolepiota_procera', 'P_Amanita_muscaria', 'E_Leccinum', 'E_Tricholomopsis_rutilans', 'E_Macrolepiota', 'E_Agaricus_augustus', 'P_Amanita_frostiana', 'E_Cantharellus_cibarius', 'P_Galerina_marginata', 'P_Amanita_phalloides', 'P_Gyromitra_esculenta']\n",
            "[[0. 0. 1. 0. 0. 0. 0. 0. 0. 0. 0. 0. 0.]]\n",
            "This image most likely belongs to E_Macrolepiota_procera with a 18.47 percent confidence.\n"
          ]
        }
      ]
    },
    {
      "cell_type": "code",
      "metadata": {
        "colab": {
          "base_uri": "https://localhost:8080/",
          "height": 530
        },
        "id": "_xL8Ip63FS4E",
        "outputId": "7a1de695-2767-41d7-d26f-36a10ac1ebbd"
      },
      "source": [
        "import matplotlib.pyplot as plt\n",
        "\n",
        "# plot the loss\n",
        "plt.plot(r.history['loss'], label='train loss')\n",
        "plt.plot(r.history['val_loss'], label='val loss')\n",
        "plt.legend()\n",
        "plt.show()\n",
        "plt.savefig('LossVal_loss')\n",
        "\n",
        "# plot the accuracy\n",
        "plt.plot(r.history['accuracy'], label='train acc')\n",
        "plt.plot(r.history['val_accuracy'], label='val acc')\n",
        "plt.legend()\n",
        "plt.show()\n",
        "plt.savefig('AccVal_acc')"
      ],
      "execution_count": null,
      "outputs": [
        {
          "output_type": "display_data",
          "data": {
            "image/png": "[encoded data removed]",
            "text/plain": [
              "<Figure size 432x288 with 1 Axes>"
            ]
          },
          "metadata": {
            "needs_background": "light"
          }
        },
        {
          "output_type": "display_data",
          "data": {
            "image/png": "[encoded data removed]",
            "text/plain": [
              "<Figure size 432x288 with 1 Axes>"
            ]
          },
          "metadata": {
            "needs_background": "light"
          }
        },
        {
          "output_type": "display_data",
          "data": {
            "text/plain": [
              "<Figure size 432x288 with 0 Axes>"
            ]
          },
          "metadata": {}
        }
      ]
    },
    {
      "cell_type": "code",
      "metadata": {
        "id": "bJ92lgPPiujX"
      },
      "source": [
        "y_pred = model_loaded.predict(test_set)"
      ],
      "execution_count": null,
      "outputs": []
    },
    {
      "cell_type": "code",
      "metadata": {
        "colab": {
          "base_uri": "https://localhost:8080/"
        },
        "id": "bQbFYcTWiue_",
        "outputId": "4a4775ca-b331-41dc-e6a5-84f9a6e989f9"
      },
      "source": [
        "y_pred"
      ],
      "execution_count": null,
      "outputs": [
        {
          "output_type": "execute_result",
          "data": {
            "text/plain": [
              "array([[2.61436185e-07, 1.92757989e-06, 4.53007826e-10, ...,\n",
              "        9.37890765e-10, 1.79383939e-08, 1.37970774e-10],\n",
              "       [6.83726764e-09, 2.05041161e-07, 7.60581243e-05, ...,\n",
              "        1.92144718e-08, 1.37788414e-09, 9.99892116e-01],\n",
              "       [1.38192481e-05, 1.07632161e-06, 1.98736120e-06, ...,\n",
              "        7.85453085e-06, 1.01472529e-06, 4.91521587e-06],\n",
              "       ...,\n",
              "       [1.60328746e-05, 2.29918835e-04, 4.26001975e-07, ...,\n",
              "        2.87250696e-05, 1.23488064e-09, 4.41083466e-05],\n",
              "       [9.08900976e-01, 2.86153052e-03, 6.88474276e-04, ...,\n",
              "        1.35778566e-03, 3.72915565e-06, 1.12853246e-04],\n",
              "       [6.32802994e-07, 2.57655520e-05, 5.88933518e-03, ...,\n",
              "        3.89392699e-05, 9.68979001e-01, 4.33967711e-04]], dtype=float32)"
            ]
          },
          "metadata": {},
          "execution_count": 10
        }
      ]
    },
    {
      "cell_type": "code",
      "metadata": {
        "id": "Wu8XmB7giuYr"
      },
      "source": [
        "import numpy as np\n",
        "y_pred = np.argmax(y_pred, axis=1)"
      ],
      "execution_count": null,
      "outputs": []
    },
    {
      "cell_type": "code",
      "metadata": {
        "id": "3XE8G3hQi42a",
        "colab": {
          "base_uri": "https://localhost:8080/"
        },
        "outputId": "29060845-a207-4ee4-cb7b-88751f096f8d"
      },
      "source": [
        "y_pred"
      ],
      "execution_count": null,
      "outputs": [
        {
          "output_type": "execute_result",
          "data": {
            "text/plain": [
              "array([ 8, 12,  8, 10,  2,  1,  2, 10,  3,  1,  0,  8,  0,  8,  5,  2,  1,\n",
              "       12,  2,  1,  1,  5,  5,  8,  6,  2,  9,  7,  5, 10,  8,  5,  1, 10,\n",
              "        8, 12, 10,  9,  7,  2,  1, 12,  0, 11,  1, 11,  0,  4, 12,  8,  7,\n",
              "        2,  8,  2,  3,  4,  1,  9,  1,  3,  2,  1, 10,  9,  8,  5,  5,  8,\n",
              "        1,  4,  2,  9,  4,  8, 10,  4,  0,  7, 12,  1,  1,  5,  7,  2,  4,\n",
              "       11, 12,  8,  1,  8,  1,  9,  8, 10,  8,  0, 11,  1, 10,  8,  1, 12,\n",
              "        0, 12, 12,  2,  6, 10,  1, 11, 11,  2,  7,  2,  1,  7,  0,  6,  8,\n",
              "       10, 10, 12,  8,  1,  7,  9,  5,  5,  4,  8, 11,  1,  8, 11,  0, 11,\n",
              "       10,  7,  1, 10,  1,  5,  0,  1, 10,  5,  5, 10,  1, 12, 11,  8,  1,\n",
              "        2,  6,  3,  6, 10,  1,  6,  1, 10, 12, 11,  1, 12,  8, 10,  8,  5,\n",
              "       11,  8,  5,  8, 12,  4,  0, 12,  8, 10,  8,  8,  2,  2, 10,  2,  2,\n",
              "        5,  8, 12,  2,  1,  1,  1, 12,  9,  7,  5,  2, 10,  0,  8, 10,  3,\n",
              "       10,  7,  5,  5, 12,  8,  3,  2,  5, 12,  3,  5,  6,  4, 12,  2,  2,\n",
              "        5,  2, 10,  8,  8, 12,  1, 12,  3, 12,  6,  1,  8, 10,  1,  0,  7,\n",
              "        9,  1,  1,  8,  2,  8,  3,  1,  5, 10, 12,  9,  5,  0, 10, 11,  8,\n",
              "       10,  5, 12,  0,  4,  0, 11])"
            ]
          },
          "metadata": {},
          "execution_count": 12
        }
      ]
    },
    {
      "cell_type": "code",
      "metadata": {
        "id": "fSkbzeU4i4yz",
        "colab": {
          "base_uri": "https://localhost:8080/"
        },
        "outputId": "c2fc3d20-33c5-4015-ddc9-00a1ef07b707"
      },
      "source": [
        "len(y_pred)"
      ],
      "execution_count": null,
      "outputs": [
        {
          "output_type": "execute_result",
          "data": {
            "text/plain": [
              "262"
            ]
          },
          "metadata": {},
          "execution_count": 13
        }
      ]
    },
    {
      "cell_type": "code",
      "metadata": {
        "id": "3c_IkTb7i4ua"
      },
      "source": [
        ""
      ],
      "execution_count": null,
      "outputs": []
    }
  ]
}